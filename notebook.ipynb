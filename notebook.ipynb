{
  "cells": [
    {
      "metadata": {
        "_uuid": "8f2839f25d086af736a60e9eeb907d3b93b6e0e5",
        "_cell_guid": "b1076dfc-b9ad-4769-8c92-a6c4dae69d19",
        "trusted": false,
        "collapsed": true
      },
      "cell_type": "code",
      "source": "import numpy as np # linear algebra\nimport pandas as pd # data processing, CSV file I/O (e.g. pd.read_csv)\n\n# List of files\nimport os\nprint(os.listdir(\"../input\"))\n\n# Any results you write to the current directory are saved as output.",
      "execution_count": null,
      "outputs": []
    },
    {
      "metadata": {
        "_uuid": "d629ff2d2480ee46fbb7e2d37f6b5fab8052498a",
        "_cell_guid": "79c7e3d0-c299-4dcb-8224-4455121ee9b0",
        "collapsed": true,
        "trusted": false
      },
      "cell_type": "code",
      "source": "# Import Keras and its methods\nfrom keras.models import Sequential\nfrom keras.utils import np_utils\nfrom keras.layers.core import Dense, Activation, Dropout\nfrom keras import optimizers\n\nimport pandas as pd\nimport numpy as np",
      "execution_count": null,
      "outputs": []
    },
    {
      "metadata": {
        "_uuid": "61a11c2fc8ce57f1318e1cd6de4526a616a2d143",
        "_cell_guid": "5b364b0c-5819-4b88-8e47-bc8fe04c35f2",
        "trusted": false,
        "collapsed": true
      },
      "cell_type": "code",
      "source": "# Read data\ntrain = pd.read_csv('../input/train.csv')\nlabels = train.ix[:,0].values.astype('int32')\nX_train = (train.ix[:,1:].values).astype('float32')\nX_test = (pd.read_csv('../input/test.csv').values).astype('float32')",
      "execution_count": null,
      "outputs": []
    },
    {
      "metadata": {
        "_uuid": "6cd7548084e9b179a2fd38e5c780a0c86a37f92a",
        "_cell_guid": "3d5a8e96-e4c3-4cb0-a5ff-be676345101f",
        "collapsed": true,
        "trusted": false
      },
      "cell_type": "code",
      "source": "# convert list of labels to binary class matrix\ny_train = np_utils.to_categorical(labels) ",
      "execution_count": null,
      "outputs": []
    },
    {
      "metadata": {
        "_uuid": "9df80874554f72027adad78dad8de3eace5ae963",
        "_cell_guid": "76a1532c-f52d-43d5-bf78-eda00cef8c18",
        "collapsed": true,
        "trusted": false
      },
      "cell_type": "code",
      "source": "# pre-processing: divide by max and substract mean\nscale = np.max(X_train)\nX_train /= scale\nX_test /= scale",
      "execution_count": null,
      "outputs": []
    },
    {
      "metadata": {
        "_uuid": "c64cf4369a469b3d950b456d5b9c0b99202c2c5c",
        "_cell_guid": "88f62a51-1edd-476b-bc90-f1405899f8fc",
        "collapsed": true,
        "trusted": false
      },
      "cell_type": "code",
      "source": "# Normalize input\nmean = np.std(X_train)\nX_train -= mean\nX_test -= mean",
      "execution_count": null,
      "outputs": []
    },
    {
      "metadata": {
        "_uuid": "2eee453ab83563546e5f58cf0d83f84a54e2a861",
        "_cell_guid": "c194677b-64d5-404c-a913-a410866cd6b6",
        "collapsed": true,
        "trusted": false
      },
      "cell_type": "code",
      "source": "# Get input shape and number of classes\ninput_dim = X_train.shape[1]\nnb_classes = y_train.shape[1]",
      "execution_count": null,
      "outputs": []
    },
    {
      "metadata": {
        "_uuid": "aae052b807ccb22d24dcb98dd6bf82fd03734fa7",
        "_cell_guid": "5b8f4daa-660d-40dd-a6c7-1889fc890c57",
        "collapsed": true,
        "trusted": false
      },
      "cell_type": "code",
      "source": "# Simple 2-Dense Layer Keras model with 2 different dropout rate\n# Dropout rates high at first will have negative impact on model as it will help to lose information\n# so make it less at first and bigger at later layers\nmodel = Sequential()\nmodel.add(Dense(256, input_dim=input_dim))\nmodel.add(Activation('relu'))\nmodel.add(Dropout(0.15))\nmodel.add(Dense(128))\nmodel.add(Activation('relu'))\nmodel.add(Dropout(0.2))\nmodel.add(Dense(nb_classes))\nmodel.add(Activation('softmax'))",
      "execution_count": null,
      "outputs": []
    },
    {
      "metadata": {
        "_uuid": "19fbd89586cf02bdecd428944ef0bc3a73884a77",
        "_cell_guid": "2cca62e6-9147-4949-af48-9f208a4dcfdd",
        "collapsed": true,
        "trusted": false
      },
      "cell_type": "code",
      "source": "# categorical loss and Adam as the optimizer\nmodel.compile(loss='categorical_crossentropy', optimizer=optimizers.Adam(lr=0.0001), metrics=['acc'])",
      "execution_count": null,
      "outputs": []
    },
    {
      "metadata": {
        "_uuid": "bf85bca725212ec200b167fee0f1a812a996f11a",
        "_cell_guid": "a6c8194c-d04e-486f-8d4e-1d13ca77c324",
        "trusted": false,
        "collapsed": true
      },
      "cell_type": "code",
      "source": "# Training 20 epochs with 0.1 val-train split and batch-size as 25\nprint(\"Training...\")\nmodel.fit(X_train, y_train, epochs=20, batch_size=25, validation_split=0.1)",
      "execution_count": null,
      "outputs": []
    },
    {
      "metadata": {
        "_uuid": "922fd72ee64a61c89500e4e50f2d17942f0e7e55",
        "_cell_guid": "432d5522-d348-44cf-95b3-1a55b13f12ba",
        "trusted": false,
        "collapsed": true
      },
      "cell_type": "code",
      "source": "# Save prediction on variable\nprint(\"Generating test predictions...\")\npreds = model.predict_classes(X_test, verbose=0)",
      "execution_count": null,
      "outputs": []
    },
    {
      "metadata": {
        "_uuid": "264b7bc3152c28be906f7f6b9f62be6298c6b47d",
        "_cell_guid": "11170007-f13e-4312-9829-0554e12c0f43",
        "collapsed": true,
        "trusted": false
      },
      "cell_type": "code",
      "source": "# Function to save result to a file\ndef write_preds(preds, fname):\n    pd.DataFrame({\"ImageId\": list(range(1,len(preds)+1)), \"Label\": preds}).to_csv(fname, index=False, header=True)",
      "execution_count": null,
      "outputs": []
    },
    {
      "metadata": {
        "_uuid": "c9fee61d98d9fc3a839a12b538c9e49910dbac5f",
        "_cell_guid": "6bb6218c-0b5f-4ba3-869c-33f8896f9d46",
        "collapsed": true,
        "trusted": false
      },
      "cell_type": "code",
      "source": "# Write to file your test score for submission\nwrite_preds(preds, \"keras_kaggle_sub2.csv\")",
      "execution_count": null,
      "outputs": []
    },
    {
      "metadata": {
        "_uuid": "e4b884863700116987e6cbd3f122906f4905d582",
        "_cell_guid": "d3ac9fdb-6ffc-4d04-a719-aa49b6e94bcb",
        "collapsed": true,
        "trusted": false
      },
      "cell_type": "code",
      "source": "",
      "execution_count": null,
      "outputs": []
    }
  ],
  "metadata": {
    "language_info": {
      "mimetype": "text/x-python",
      "nbconvert_exporter": "python",
      "pygments_lexer": "ipython3",
      "version": "3.6.4",
      "name": "python",
      "file_extension": ".py",
      "codemirror_mode": {
        "version": 3,
        "name": "ipython"
      }
    },
    "kernelspec": {
      "display_name": "Python 3",
      "language": "python",
      "name": "python3"
    }
  },
  "nbformat": 4,
  "nbformat_minor": 1
}